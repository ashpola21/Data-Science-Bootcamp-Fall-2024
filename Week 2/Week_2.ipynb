{
  "nbformat": 4,
  "nbformat_minor": 0,
  "metadata": {
    "colab": {
      "provenance": []
    },
    "kernelspec": {
      "name": "python3",
      "display_name": "Python 3"
    },
    "language_info": {
      "name": "python"
    }
  },
  "cells": [
    {
      "cell_type": "markdown",
      "source": [
        "# **Aashray - Week 2 Data science bootcamp**"
      ],
      "metadata": {
        "id": "62odgSlf5XeM"
      }
    },
    {
      "cell_type": "markdown",
      "source": [
        "**Numpy Questions**"
      ],
      "metadata": {
        "id": "nYv7Qh233laT"
      }
    },
    {
      "cell_type": "markdown",
      "source": [
        "Q1"
      ],
      "metadata": {
        "id": "h04G01oZ3s4R"
      }
    },
    {
      "cell_type": "code",
      "source": [
        "import numpy as np\n",
        "\n",
        "A = np.array([[1, 2, 7], [4, 9, 11]])\n",
        "B = np.array([[5, 3, 9], [10, 11, 12]])\n",
        "\n",
        "vertical_stack = np.vstack((A, B))\n",
        "\n",
        "horizontal_stack = np.hstack((A, B))\n",
        "\n",
        "print(\"Array A:\\n\", A)\n",
        "print(\"\\nArray B:\\n\", B)\n",
        "print(\"\\nVertically Stacked Array:\\n\", vertical_stack)\n",
        "print(\"\\nHorizontally Stacked Array:\\n\", horizontal_stack)\n"
      ],
      "metadata": {
        "colab": {
          "base_uri": "https://localhost:8080/"
        },
        "id": "BNjskLBs3qmU",
        "outputId": "9ab5eeb1-d02d-4542-f409-7080d18677e9"
      },
      "execution_count": 3,
      "outputs": [
        {
          "output_type": "stream",
          "name": "stdout",
          "text": [
            "Array A:\n",
            " [[ 1  2  7]\n",
            " [ 4  9 11]]\n",
            "\n",
            "Array B:\n",
            " [[ 5  3  9]\n",
            " [10 11 12]]\n",
            "\n",
            "Vertically Stacked Array:\n",
            " [[ 1  2  7]\n",
            " [ 4  9 11]\n",
            " [ 5  3  9]\n",
            " [10 11 12]]\n",
            "\n",
            "Horizontally Stacked Array:\n",
            " [[ 1  2  7  5  3  9]\n",
            " [ 4  9 11 10 11 12]]\n"
          ]
        }
      ]
    },
    {
      "cell_type": "markdown",
      "source": [
        "Q2"
      ],
      "metadata": {
        "id": "1WSHVDre4DRf"
      }
    },
    {
      "cell_type": "code",
      "source": [
        "\n",
        "common_elements = np.intersect1d(A, B)\n",
        "\n",
        "print(\"Array A:\\n\", A)\n",
        "print(\"\\nArray B:\\n\", B)\n",
        "print(\"\\nCommon elements between A and B:\\n\", common_elements)"
      ],
      "metadata": {
        "colab": {
          "base_uri": "https://localhost:8080/"
        },
        "id": "_MD2_rO_4EJB",
        "outputId": "f76ca2a8-7f64-43d2-c1f8-18e949f2e514"
      },
      "execution_count": 4,
      "outputs": [
        {
          "output_type": "stream",
          "name": "stdout",
          "text": [
            "Array A:\n",
            " [[ 1  2  7]\n",
            " [ 4  9 11]]\n",
            "\n",
            "Array B:\n",
            " [[ 5  3  9]\n",
            " [10 11 12]]\n",
            "\n",
            "Common elements between A and B:\n",
            " [ 9 11]\n"
          ]
        }
      ]
    },
    {
      "cell_type": "markdown",
      "source": [
        "Q3"
      ],
      "metadata": {
        "id": "SJYjo6q74Ti1"
      }
    },
    {
      "cell_type": "code",
      "source": [
        "\n",
        "# Specify the range\n",
        "lower_bound = 5\n",
        "upper_bound = 10\n",
        "\n",
        "# Extract elements within the specified range using a boolean mask\n",
        "elements_in_range = A[(A >= lower_bound) & (A <= upper_bound)]\n",
        "\n",
        "print(\"Array A:\\n\", A)\n",
        "print(f\"\\nElements in A between {lower_bound} and {upper_bound}:\\n\", elements_in_range)\n"
      ],
      "metadata": {
        "colab": {
          "base_uri": "https://localhost:8080/"
        },
        "id": "KUfKK5dq4UVZ",
        "outputId": "3aafe3fb-451e-4794-c956-3e4fda7ff44b"
      },
      "execution_count": 5,
      "outputs": [
        {
          "output_type": "stream",
          "name": "stdout",
          "text": [
            "Array A:\n",
            " [[ 1  2  7]\n",
            " [ 4  9 11]]\n",
            "\n",
            "Elements in A between 5 and 10:\n",
            " [7 9]\n"
          ]
        }
      ]
    },
    {
      "cell_type": "markdown",
      "source": [
        "Q4"
      ],
      "metadata": {
        "id": "qutBH-BK47yW"
      }
    },
    {
      "cell_type": "code",
      "source": [
        "\n",
        "url = 'https://archive.ics.uci.edu/ml/machine-learning-databases/iris/iris.data'\n",
        "iris_2d = np.genfromtxt(url, delimiter=',', dtype='float', usecols=[0,1,2,3])\n",
        "\n",
        "filtered_rows = iris_2d[(iris_2d[:, 2] > 1.5) & (iris_2d[:, 0] < 5.0)]\n",
        "\n",
        "print(\"Filtered rows where petallength > 1.5 and sepallength < 5.0:\\n\", filtered_rows)\n"
      ],
      "metadata": {
        "colab": {
          "base_uri": "https://localhost:8080/"
        },
        "id": "8yvZRur74qZ0",
        "outputId": "d1dd31e0-08e4-48d9-a758-c8047f51fe08"
      },
      "execution_count": 6,
      "outputs": [
        {
          "output_type": "stream",
          "name": "stdout",
          "text": [
            "Filtered rows where petallength > 1.5 and sepallength < 5.0:\n",
            " [[4.8 3.4 1.6 0.2]\n",
            " [4.8 3.4 1.9 0.2]\n",
            " [4.7 3.2 1.6 0.2]\n",
            " [4.8 3.1 1.6 0.2]\n",
            " [4.9 2.4 3.3 1. ]\n",
            " [4.9 2.5 4.5 1.7]]\n"
          ]
        }
      ]
    },
    {
      "cell_type": "markdown",
      "source": [
        "**Pandas Questions**"
      ],
      "metadata": {
        "id": "P03AJ5gk49s_"
      }
    },
    {
      "cell_type": "markdown",
      "source": [
        "Q5"
      ],
      "metadata": {
        "id": "yhIQ8mCK4_55"
      }
    },
    {
      "cell_type": "code",
      "source": [
        "import pandas as pd\n",
        "\n",
        "df = pd.read_csv('https://raw.githubusercontent.com/selva86/datasets/master/Cars93_miss.csv')\n",
        "\n",
        "# Select every 20th row starting from the first row (index 0)\n",
        "filtered_df = df.iloc[::20, :][['Manufacturer', 'Model', 'Type']]\n",
        "\n",
        "print(\"Filtered rows for every 20th entry (Manufacturer, Model, Type):\\n\", filtered_df)\n"
      ],
      "metadata": {
        "colab": {
          "base_uri": "https://localhost:8080/"
        },
        "id": "X4iFrOau5Ayy",
        "outputId": "d2369209-3474-4a22-a1a6-13bc81190c9b"
      },
      "execution_count": 7,
      "outputs": [
        {
          "output_type": "stream",
          "name": "stdout",
          "text": [
            "Filtered rows for every 20th entry (Manufacturer, Model, Type):\n",
            "    Manufacturer    Model     Type\n",
            "0         Acura  Integra    Small\n",
            "20     Chrysler  LeBaron  Compact\n",
            "40        Honda  Prelude   Sporty\n",
            "60      Mercury   Cougar  Midsize\n",
            "80       Subaru   Loyale    Small\n"
          ]
        }
      ]
    },
    {
      "cell_type": "markdown",
      "source": [
        "Q6"
      ],
      "metadata": {
        "id": "CFy4YAIW5UHD"
      }
    },
    {
      "cell_type": "code",
      "source": [
        "min_price_mean = df['Min.Price'].mean()\n",
        "max_price_mean = df['Max.Price'].mean()\n",
        "\n",
        "df['Min.Price'].fillna(min_price_mean, inplace=True)\n",
        "df['Max.Price'].fillna(max_price_mean, inplace=True)\n",
        "\n",
        "print(\"Updated DataFrame with missing values in Min.Price and Max.Price replaced by mean:\\n\", df[['Min.Price', 'Max.Price']].head())"
      ],
      "metadata": {
        "colab": {
          "base_uri": "https://localhost:8080/"
        },
        "id": "Ze8Deqkj5VCF",
        "outputId": "ac64f1a5-bd93-4b44-b270-4305ba460c69"
      },
      "execution_count": 8,
      "outputs": [
        {
          "output_type": "stream",
          "name": "stdout",
          "text": [
            "Updated DataFrame with missing values in Min.Price and Max.Price replaced by mean:\n",
            "    Min.Price  Max.Price\n",
            "0  12.900000  18.800000\n",
            "1  29.200000  38.700000\n",
            "2  25.900000  32.300000\n",
            "3  17.118605  44.600000\n",
            "4  17.118605  21.459091\n"
          ]
        },
        {
          "output_type": "stream",
          "name": "stderr",
          "text": [
            "<ipython-input-8-232817aa6b67>:4: FutureWarning: A value is trying to be set on a copy of a DataFrame or Series through chained assignment using an inplace method.\n",
            "The behavior will change in pandas 3.0. This inplace method will never work because the intermediate object on which we are setting values always behaves as a copy.\n",
            "\n",
            "For example, when doing 'df[col].method(value, inplace=True)', try using 'df.method({col: value}, inplace=True)' or df[col] = df[col].method(value) instead, to perform the operation inplace on the original object.\n",
            "\n",
            "\n",
            "  df['Min.Price'].fillna(min_price_mean, inplace=True)\n",
            "<ipython-input-8-232817aa6b67>:5: FutureWarning: A value is trying to be set on a copy of a DataFrame or Series through chained assignment using an inplace method.\n",
            "The behavior will change in pandas 3.0. This inplace method will never work because the intermediate object on which we are setting values always behaves as a copy.\n",
            "\n",
            "For example, when doing 'df[col].method(value, inplace=True)', try using 'df.method({col: value}, inplace=True)' or df[col] = df[col].method(value) instead, to perform the operation inplace on the original object.\n",
            "\n",
            "\n",
            "  df['Max.Price'].fillna(max_price_mean, inplace=True)\n"
          ]
        }
      ]
    },
    {
      "cell_type": "markdown",
      "source": [
        "Q7"
      ],
      "metadata": {
        "id": "XmJKIxvF6Ad_"
      }
    },
    {
      "cell_type": "code",
      "source": [
        "df = pd.DataFrame(np.random.randint(10, 40, 60).reshape(-1, 4))\n",
        "print(df)\n",
        "row_sum_gt_100 = df[df.sum(axis=1) > 100]\n",
        "print(row_sum_gt_100)"
      ],
      "metadata": {
        "colab": {
          "base_uri": "https://localhost:8080/"
        },
        "id": "5mimiRto5_5N",
        "outputId": "26689b90-76eb-4b47-a3fc-7aaeb44541b6"
      },
      "execution_count": 9,
      "outputs": [
        {
          "output_type": "stream",
          "name": "stdout",
          "text": [
            "     0   1   2   3\n",
            "0   17  25  15  30\n",
            "1   38  39  22  20\n",
            "2   32  35  25  38\n",
            "3   15  23  36  34\n",
            "4   21  28  28  37\n",
            "5   18  37  22  23\n",
            "6   16  18  18  31\n",
            "7   25  32  32  29\n",
            "8   24  16  29  20\n",
            "9   16  21  30  35\n",
            "10  38  39  22  37\n",
            "11  33  20  34  37\n",
            "12  27  10  12  28\n",
            "13  21  36  23  10\n",
            "14  34  11  11  39\n",
            "     0   1   2   3\n",
            "1   38  39  22  20\n",
            "2   32  35  25  38\n",
            "3   15  23  36  34\n",
            "4   21  28  28  37\n",
            "7   25  32  32  29\n",
            "9   16  21  30  35\n",
            "10  38  39  22  37\n",
            "11  33  20  34  37\n"
          ]
        }
      ]
    }
  ]
}